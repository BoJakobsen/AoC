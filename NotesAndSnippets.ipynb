{
 "cells": [
  {
   "cell_type": "markdown",
   "id": "3b20fbf2-a6f9-45a0-9713-7ad8867967cb",
   "metadata": {},
   "source": [
    "# Notes and Snippets for \"Advent of Code\"\n",
    "<https://adventofcode.com/>\n",
    "\n",
    "Mostly for my own sake, to collect and remember trick of general use. "
   ]
  },
  {
   "cell_type": "markdown",
   "id": "13e47bbb-7ce3-4eba-a6be-85f619737d19",
   "metadata": {},
   "source": [
    "## Some very use full people and links \n",
    "\n",
    "### People\n",
    "* HyperNeutrino: detailed walk-through of problems, [YouTube](https://www.youtube.com/@hyper-neutrino), [GitHub](https://github.com/hyperneutrino/advent-of-code) \n"
   ]
  },
  {
   "cell_type": "markdown",
   "id": "c22637eb-8ef7-4cc6-871a-f1c77e27b723",
   "metadata": {},
   "source": [
    "## General Snippets"
   ]
  },
  {
   "cell_type": "markdown",
   "id": "b3090d96-854d-46ac-82a5-3830d7d5e4cd",
   "metadata": {},
   "source": [
    "## 2023 \n",
    "Some solutions from 2023 where I did not get through that much, and some from 2025 training.\n",
    "\n",
    "All solutions can be found on:  \n",
    "<https://github.com/BoJakobsen/AoC2023>"
   ]
  },
  {
   "cell_type": "markdown",
   "id": "7eba0e6c-2e56-4af6-9990-cb26a5a3837f",
   "metadata": {},
   "source": [
    "### Day 14: Parabolic Reflector Dish\n",
    "<https://adventofcode.com/2023/day/14>\n",
    "\n",
    "String manipulation, moving round rocks \"O\" up to square rocks \"#\" not moving:  \n",
    "`O.#..O.#.#`\n",
    "\n",
    "Nice to remember: \n",
    "* Flip list of list in diagonal (exchange rows and columns)\n",
    "```Python\n",
    "lines_f = list(zip(*lines))\n",
    "```\n",
    "* Rotation of lists of lists\n",
    "```Python\n",
    "# Clockwise rotation\n",
    "def cw_rot(lines_f):\n",
    "    return [list(row) for row in zip(*lines_f[::-1])]\n",
    "\n",
    "# Counter clockwise rotation\n",
    "def ccw_rot(lines_f):  # counter clockwise\n",
    "    return list(zip(*lines_f))[::-1]\n",
    "```\n",
    "* Convert list of list to tuple of tuples (non-mutable)\n",
    "```Python\n",
    "def matrix_to_key(matrix):\n",
    "    \"\"\"Convert matrix to hashable tuple\"\"\"\n",
    "    return tuple(tuple(row) for row in matrix)\n",
    "```\n",
    "* Nice trick from HyperNeutrino, using a split and sort on the strings for moving the stones. "
   ]
  },
  {
   "cell_type": "markdown",
   "id": "b49a3265-95fb-4f62-9bc8-78dcca850106",
   "metadata": {},
   "source": [
    "## 2024\n",
    "\n",
    "First year where I did it all (but needed some inspiration for some of the problems)\n",
    "\n",
    "All solutions can be found on:  \n",
    "<https://github.com/BoJakobsen/AoC2024>"
   ]
  },
  {
   "cell_type": "code",
   "execution_count": null,
   "id": "0afe785a-b79e-4b6e-a9c5-bcec8017e279",
   "metadata": {},
   "outputs": [],
   "source": []
  }
 ],
 "metadata": {
  "kernelspec": {
   "display_name": "Python 3 (ipykernel)",
   "language": "python",
   "name": "python3"
  },
  "language_info": {
   "codemirror_mode": {
    "name": "ipython",
    "version": 3
   },
   "file_extension": ".py",
   "mimetype": "text/x-python",
   "name": "python",
   "nbconvert_exporter": "python",
   "pygments_lexer": "ipython3",
   "version": "3.13.5"
  }
 },
 "nbformat": 4,
 "nbformat_minor": 5
}
