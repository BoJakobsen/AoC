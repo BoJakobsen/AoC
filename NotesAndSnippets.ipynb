{
 "cells": [
  {
   "cell_type": "markdown",
   "id": "3b20fbf2-a6f9-45a0-9713-7ad8867967cb",
   "metadata": {},
   "source": [
    "# Notes and Snippets for \"Advent of Code\"\n",
    "<https://adventofcode.com/>"
   ]
  },
  {
   "cell_type": "code",
   "execution_count": null,
   "id": "a0d80471-d23d-4b1a-a240-b70f90e81147",
   "metadata": {},
   "outputs": [],
   "source": []
  },
  {
   "cell_type": "code",
   "execution_count": null,
   "id": "ebe6f7a8-1c18-4502-be2c-4851da5fa9ba",
   "metadata": {},
   "outputs": [],
   "source": []
  }
 ],
 "metadata": {
  "kernelspec": {
   "display_name": "Python 3 (ipykernel)",
   "language": "python",
   "name": "python3"
  },
  "language_info": {
   "codemirror_mode": {
    "name": "ipython",
    "version": 3
   },
   "file_extension": ".py",
   "mimetype": "text/x-python",
   "name": "python",
   "nbconvert_exporter": "python",
   "pygments_lexer": "ipython3",
   "version": "3.13.5"
  }
 },
 "nbformat": 4,
 "nbformat_minor": 5
}
